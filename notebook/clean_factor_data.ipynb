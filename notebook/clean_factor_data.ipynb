{
 "cells": [
  {
   "cell_type": "markdown",
   "id": "75bb6d6a-fbc4-486d-80da-01f1fab56f39",
   "metadata": {},
   "source": [
    "### Import Packages and Set Directories"
   ]
  },
  {
   "cell_type": "code",
   "execution_count": 1,
   "id": "7bc13ea6-53b4-4715-9690-f3bfbb617970",
   "metadata": {
    "tags": []
   },
   "outputs": [],
   "source": [
    "# Import packages\n",
    "import os\n",
    "import sys\n",
    "import warnings\n",
    "import inspect\n",
    "import numpy as np\n",
    "import pandas as pd\n",
    "import seaborn as sns\n",
    "import statsmodels.api as sm\n",
    "import matplotlib.pyplot as plt\n",
    "import matplotlib.dates as mdates\n",
    "from matplotlib.patches import Patch\n",
    "from pypfopt import EfficientFrontier\n",
    "from pypfopt import risk_models\n",
    "from pypfopt import expected_returns\n",
    "from scipy.interpolate import make_interp_spline\n",
    "\n",
    "# Set directories\n",
    "notebook_dir = os.getcwd()\n",
    "base_dir = os.path.join(notebook_dir, '..')\n",
    "data_dir = os.path.join(base_dir, 'data')\n",
    "factor_dir = os.path.join(base_dir, 'data', 'factors')\n",
    "src_dir = os.path.join(base_dir, 'src')\n",
    "graph_dir = os.path.join(base_dir, 'results', 'graphs')\n",
    "sys.path.append(src_dir)\n",
    "\n",
    "# Import optimal portfolio\n",
    "from optimal_portfolios import OptimalPortfolios\n",
    "\n",
    "# Ignore future warning\n",
    "warnings.simplefilter(action='ignore', category=FutureWarning)"
   ]
  },
  {
   "cell_type": "markdown",
   "id": "58092b32-b811-46a1-aeaa-3fcc4585037d",
   "metadata": {},
   "source": [
    "### Read in Data"
   ]
  },
  {
   "cell_type": "code",
   "execution_count": null,
   "id": "48c731c2-f7cc-4685-b94c-1223360417fd",
   "metadata": {},
   "outputs": [],
   "source": []
  }
 ],
 "metadata": {
  "kernelspec": {
   "display_name": "Python 3 (ipykernel)",
   "language": "python",
   "name": "python3"
  },
  "language_info": {
   "codemirror_mode": {
    "name": "ipython",
    "version": 3
   },
   "file_extension": ".py",
   "mimetype": "text/x-python",
   "name": "python",
   "nbconvert_exporter": "python",
   "pygments_lexer": "ipython3",
   "version": "3.11.3"
  }
 },
 "nbformat": 4,
 "nbformat_minor": 5
}
